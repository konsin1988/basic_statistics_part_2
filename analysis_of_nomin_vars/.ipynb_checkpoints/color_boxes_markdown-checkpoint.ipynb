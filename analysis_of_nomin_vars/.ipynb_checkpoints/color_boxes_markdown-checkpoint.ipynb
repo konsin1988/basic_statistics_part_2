{
 "cells": [
  {
   "cell_type": "markdown",
   "id": "bd6e8ee8-3a0f-4129-a352-a478a4982d74",
   "metadata": {},
   "source": [
    "<div class=\"alert alert-block alert-info\">\n",
    "\n",
    "-  $H_0$ =>  $ P_{heads} = 0.5 $\n",
    "\n",
    "-  $H_1$ =>  $ P_{heads} \\neq 0.5 $\n",
    "</div>\n",
    "\n",
    "\n",
    "$$\n",
    "F =  \\frac {(20 - 30)^2} {30} + \\frac {(40 - 30^2)}{30} \\approx 6.7\n",
    "$$\n",
    "\n",
    "\n",
    "<div class=\"alert alert-block alert-warning\">\n",
    "<b>Example:</b> Use yellow boxes for examples that are not \n",
    "inside code cells, or use for mathematical formulas if needed.\n",
    "</div>\n",
    "<div class=\"alert alert-block alert-success\">\n",
    "<b>Up to you:</b> Use green boxes sparingly, and only for some specific \n",
    "purpose that the other boxes can't cover. For example, if you have a lot \n",
    "of related content to link to, maybe you decide to use green boxes for \n",
    "related links from each section of a notebook.\n",
    "</div>\n",
    "<div class=\"alert alert-block alert-danger\">\n",
    "<b>Just don't:</b> In general, avoid the red boxes. These should only be\n",
    "used for actions that might cause data loss or another major issue.\n",
    "</div>"
   ]
  },
  {
   "cell_type": "markdown",
   "id": "977197af-781d-40e2-8165-3a47b9c3eb5f",
   "metadata": {},
   "source": []
  }
 ],
 "metadata": {
  "kernelspec": {
   "display_name": "Python 3 (ipykernel)",
   "language": "python",
   "name": "python3"
  },
  "language_info": {
   "codemirror_mode": {
    "name": "ipython",
    "version": 3
   },
   "file_extension": ".py",
   "mimetype": "text/x-python",
   "name": "python",
   "nbconvert_exporter": "python",
   "pygments_lexer": "ipython3",
   "version": "3.12.3"
  }
 },
 "nbformat": 4,
 "nbformat_minor": 5
}
