{
 "cells": [
  {
   "cell_type": "code",
   "execution_count": 4,
   "id": "264f2358-e5fd-444b-a067-618932d05dd7",
   "metadata": {},
   "outputs": [],
   "source": [
    "import pandas as pd\n",
    "import numpy as np"
   ]
  },
  {
   "cell_type": "markdown",
   "id": "1874ecc2-8f0c-4055-b561-ad11603b1a7a",
   "metadata": {},
   "source": [
    "# Fisher's exact test"
   ]
  },
  {
   "cell_type": "markdown",
   "id": "1fc5e28b-e7b4-4b62-ac76-480c65d6d066",
   "metadata": {},
   "source": [
    "<table style=\"width:100%\">\n",
    "  <tr>\n",
    "    <th></th>\n",
    "    <th>cured</th>\n",
    "    <th>not cured</th>\n",
    "    <th>total</th>\n",
    "  </tr>\n",
    "  <tr>\n",
    "    <td>1st</td>\n",
    "    <td>a</td>\n",
    "    <td>b</td>\n",
    "      <td>a + b</td>\n",
    "  </tr>\n",
    "  <tr>\n",
    "    <td>2nd</td>\n",
    "    <td>c</td>\n",
    "    <td>d</td>\n",
    "    <td>c + d</td>\n",
    "  </tr>\n",
    "    <tr>\n",
    "    <td>total</td>\n",
    "    <td>a + c</td>\n",
    "    <td>b + d</td>\n",
    "    <td>n</td>\n",
    "  </tr>\n",
    "</table>"
   ]
  },
  {
   "cell_type": "markdown",
   "id": "cc64d5cc-21f1-4db3-ae46-0edffd0aab06",
   "metadata": {},
   "source": [
    "> $H_0$: $P_1$ = $P_2$ = $P$"
   ]
  },
  {
   "cell_type": "markdown",
   "id": "7d869c5b-ae4b-4796-86ee-316fce134fc1",
   "metadata": {},
   "source": [
    "x - number of \"+\" in 1st <br>\n",
    "y - number of \"+\" in 2nd"
   ]
  },
  {
   "cell_type": "markdown",
   "id": "ec41539e-5db6-41d9-929d-d63dcbf6624f",
   "metadata": {},
   "source": [
    "$$ x \\sim binomial(a + b, p) $$\n",
    "$$ y \\sim binomial(c + d, p) $$\n",
    "\n",
    "$ a + b $, $c + d$ - number of attempts,<br>\n",
    "$p$ - probabilities"
   ]
  },
  {
   "cell_type": "markdown",
   "id": "12385e8e-4ee4-415b-a5f2-a962a2c80231",
   "metadata": {},
   "source": [
    "$$ P(x = a) = C^a_{a + b} p^a (1 - p)^b $$"
   ]
  },
  {
   "cell_type": "markdown",
   "id": "999bcbfc-32a0-4233-9c84-9c9bd230f4cd",
   "metadata": {},
   "source": [
    "$$ P(y = c) = C^c_{c+d}p^c(1-p)^d$$"
   ]
  },
  {
   "cell_type": "markdown",
   "id": "509d9a44-707d-4f6b-a8b2-3703cc02aa1a",
   "metadata": {},
   "source": [
    "$$ P(x + y = a + c) = C^{a+c}_n p^{a + c} (1 - p)^{b + d}$$"
   ]
  },
  {
   "cell_type": "markdown",
   "id": "00337291-23d3-4fd6-8517-17c574914aeb",
   "metadata": {},
   "source": [
    "## Formula:"
   ]
  },
  {
   "cell_type": "markdown",
   "id": "651a46a8-0c7d-41f0-b9d7-91dc80649ad5",
   "metadata": {},
   "source": [
    "$$ \\frac {C^a_{a+b} \\cdot C^c_{c+d}}{C^{a+c}_n} $$"
   ]
  },
  {
   "cell_type": "code",
   "execution_count": 8,
   "id": "aa7a8348-5dd2-48a0-afe2-e1f39c99e1f1",
   "metadata": {},
   "outputs": [],
   "source": [
    "test_fisher = pd.DataFrame([[3, 1], [1, 3]], index = ['1st', '2nd'])"
   ]
  },
  {
   "cell_type": "code",
   "execution_count": 9,
   "id": "c933c30b-0320-4373-880c-618ac57cb3ed",
   "metadata": {},
   "outputs": [
    {
     "data": {
      "text/plain": [
       "SignificanceResult(statistic=9.0, pvalue=0.48571428571428565)"
      ]
     },
     "execution_count": 9,
     "metadata": {},
     "output_type": "execute_result"
    }
   ],
   "source": [
    "from scipy.stats import fisher_exact\n",
    "fisher_exact(test_fisher)"
   ]
  },
  {
   "cell_type": "code",
   "execution_count": null,
   "id": "f5098ff8-3e1d-4c09-be6f-9253c2726533",
   "metadata": {},
   "outputs": [],
   "source": []
  }
 ],
 "metadata": {
  "kernelspec": {
   "display_name": "Python 3 (ipykernel)",
   "language": "python",
   "name": "python3"
  },
  "language_info": {
   "codemirror_mode": {
    "name": "ipython",
    "version": 3
   },
   "file_extension": ".py",
   "mimetype": "text/x-python",
   "name": "python",
   "nbconvert_exporter": "python",
   "pygments_lexer": "ipython3",
   "version": "3.12.3"
  }
 },
 "nbformat": 4,
 "nbformat_minor": 5
}
