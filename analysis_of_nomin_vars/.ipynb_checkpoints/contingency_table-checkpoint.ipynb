{
 "cells": [
  {
   "cell_type": "code",
   "execution_count": 1,
   "id": "a9533fba-375e-4932-88de-0f82daa7f5a5",
   "metadata": {},
   "outputs": [],
   "source": [
    "import pandas as pd\n",
    "import numpy as np\n",
    "import sqlite3\n",
    "import scipy.stats as sps\n",
    "\n",
    "connection = sqlite3.connect('german_credit.db')\n",
    "cursor = connection.cursor()\n",
    "\n",
    "def select(query):\n",
    "    try:\n",
    "        return pd.read_sql_query(query, connection)\n",
    "    except:\n",
    "        cursor.executescript(query)\n",
    "        connection.commit()"
   ]
  },
  {
   "cell_type": "code",
   "execution_count": 3,
   "id": "6938f809-9f20-4494-a657-c077cfead5a8",
   "metadata": {},
   "outputs": [
    {
     "data": {
      "text/html": [
       "<div>\n",
       "<style scoped>\n",
       "    .dataframe tbody tr th:only-of-type {\n",
       "        vertical-align: middle;\n",
       "    }\n",
       "\n",
       "    .dataframe tbody tr th {\n",
       "        vertical-align: top;\n",
       "    }\n",
       "\n",
       "    .dataframe thead th {\n",
       "        text-align: right;\n",
       "    }\n",
       "</style>\n",
       "<table border=\"1\" class=\"dataframe\">\n",
       "  <thead>\n",
       "    <tr style=\"text-align: right;\">\n",
       "      <th></th>\n",
       "      <th>age</th>\n",
       "      <th>sex</th>\n",
       "      <th>job</th>\n",
       "      <th>housing</th>\n",
       "      <th>saving_accounts</th>\n",
       "      <th>checking_account</th>\n",
       "      <th>credit_amount</th>\n",
       "      <th>duration</th>\n",
       "      <th>purpose</th>\n",
       "      <th>default</th>\n",
       "      <th>contract_dt</th>\n",
       "      <th>client_id</th>\n",
       "    </tr>\n",
       "  </thead>\n",
       "  <tbody>\n",
       "    <tr>\n",
       "      <th>0</th>\n",
       "      <td>33</td>\n",
       "      <td>male</td>\n",
       "      <td>2</td>\n",
       "      <td>own</td>\n",
       "      <td>NaN</td>\n",
       "      <td>NaN</td>\n",
       "      <td>3074</td>\n",
       "      <td>9</td>\n",
       "      <td>radio/TV</td>\n",
       "      <td>0</td>\n",
       "      <td>2008-06-29 18:52:00</td>\n",
       "      <td>210</td>\n",
       "    </tr>\n",
       "    <tr>\n",
       "      <th>1</th>\n",
       "      <td>43</td>\n",
       "      <td>male</td>\n",
       "      <td>1</td>\n",
       "      <td>own</td>\n",
       "      <td>little</td>\n",
       "      <td>little</td>\n",
       "      <td>1344</td>\n",
       "      <td>12</td>\n",
       "      <td>car</td>\n",
       "      <td>0</td>\n",
       "      <td>2007-05-20 18:30:19</td>\n",
       "      <td>929</td>\n",
       "    </tr>\n",
       "    <tr>\n",
       "      <th>2</th>\n",
       "      <td>52</td>\n",
       "      <td>male</td>\n",
       "      <td>2</td>\n",
       "      <td>own</td>\n",
       "      <td>quite rich</td>\n",
       "      <td>NaN</td>\n",
       "      <td>936</td>\n",
       "      <td>9</td>\n",
       "      <td>education</td>\n",
       "      <td>0</td>\n",
       "      <td>2008-04-27 08:23:07</td>\n",
       "      <td>200</td>\n",
       "    </tr>\n",
       "    <tr>\n",
       "      <th>3</th>\n",
       "      <td>35</td>\n",
       "      <td>female</td>\n",
       "      <td>3</td>\n",
       "      <td>own</td>\n",
       "      <td>little</td>\n",
       "      <td>NaN</td>\n",
       "      <td>1393</td>\n",
       "      <td>11</td>\n",
       "      <td>car</td>\n",
       "      <td>0</td>\n",
       "      <td>2007-05-06 10:58:22</td>\n",
       "      <td>45</td>\n",
       "    </tr>\n",
       "    <tr>\n",
       "      <th>4</th>\n",
       "      <td>28</td>\n",
       "      <td>male</td>\n",
       "      <td>2</td>\n",
       "      <td>own</td>\n",
       "      <td>little</td>\n",
       "      <td>NaN</td>\n",
       "      <td>776</td>\n",
       "      <td>12</td>\n",
       "      <td>radio/TV</td>\n",
       "      <td>0</td>\n",
       "      <td>2007-07-21 13:22:14</td>\n",
       "      <td>358</td>\n",
       "    </tr>\n",
       "  </tbody>\n",
       "</table>\n",
       "</div>"
      ],
      "text/plain": [
       "   age     sex  job housing saving_accounts checking_account  credit_amount  \\\n",
       "0   33    male    2     own             NaN              NaN           3074   \n",
       "1   43    male    1     own          little           little           1344   \n",
       "2   52    male    2     own      quite rich              NaN            936   \n",
       "3   35  female    3     own          little              NaN           1393   \n",
       "4   28    male    2     own          little              NaN            776   \n",
       "\n",
       "   duration    purpose  default          contract_dt  client_id  \n",
       "0         9   radio/TV        0  2008-06-29 18:52:00        210  \n",
       "1        12        car        0  2007-05-20 18:30:19        929  \n",
       "2         9  education        0  2008-04-27 08:23:07        200  \n",
       "3        11        car        0  2007-05-06 10:58:22         45  \n",
       "4        12   radio/TV        0  2007-07-21 13:22:14        358  "
      ]
     },
     "execution_count": 3,
     "metadata": {},
     "output_type": "execute_result"
    }
   ],
   "source": [
    "german_credit = pd.read_csv('../german_credit_augmented.csv')\n",
    "german_credit.head()"
   ]
  },
  {
   "cell_type": "code",
   "execution_count": 3,
   "id": "96c537a1-650a-4aab-acd1-708050192a1d",
   "metadata": {},
   "outputs": [
    {
     "name": "stdout",
     "output_type": "stream",
     "text": [
      "<class 'pandas.core.frame.DataFrame'>\n",
      "RangeIndex: 1000 entries, 0 to 999\n",
      "Data columns (total 12 columns):\n",
      " #   Column            Non-Null Count  Dtype \n",
      "---  ------            --------------  ----- \n",
      " 0   age               1000 non-null   int64 \n",
      " 1   sex               1000 non-null   object\n",
      " 2   job               1000 non-null   int64 \n",
      " 3   housing           1000 non-null   object\n",
      " 4   saving_accounts   817 non-null    object\n",
      " 5   checking_account  606 non-null    object\n",
      " 6   credit_amount     1000 non-null   int64 \n",
      " 7   duration          1000 non-null   int64 \n",
      " 8   purpose           1000 non-null   object\n",
      " 9   default           1000 non-null   int64 \n",
      " 10  contract_dt       1000 non-null   object\n",
      " 11  client_id         1000 non-null   int64 \n",
      "dtypes: int64(6), object(6)\n",
      "memory usage: 93.9+ KB\n"
     ]
    }
   ],
   "source": [
    "german_credit.info()"
   ]
  },
  {
   "cell_type": "code",
   "execution_count": 4,
   "id": "96960d35-bf00-4b09-b53b-d0f23f19940f",
   "metadata": {},
   "outputs": [
    {
     "data": {
      "text/html": [
       "<div>\n",
       "<style scoped>\n",
       "    .dataframe tbody tr th:only-of-type {\n",
       "        vertical-align: middle;\n",
       "    }\n",
       "\n",
       "    .dataframe tbody tr th {\n",
       "        vertical-align: top;\n",
       "    }\n",
       "\n",
       "    .dataframe thead th {\n",
       "        text-align: right;\n",
       "    }\n",
       "</style>\n",
       "<table border=\"1\" class=\"dataframe\">\n",
       "  <thead>\n",
       "    <tr style=\"text-align: right;\">\n",
       "      <th>housing</th>\n",
       "      <th>free</th>\n",
       "      <th>own</th>\n",
       "      <th>rent</th>\n",
       "      <th>total_by_sex</th>\n",
       "      <th>perc_gender</th>\n",
       "    </tr>\n",
       "    <tr>\n",
       "      <th>sex</th>\n",
       "      <th></th>\n",
       "      <th></th>\n",
       "      <th></th>\n",
       "      <th></th>\n",
       "      <th></th>\n",
       "    </tr>\n",
       "  </thead>\n",
       "  <tbody>\n",
       "    <tr>\n",
       "      <th>female</th>\n",
       "      <td>19.00</td>\n",
       "      <td>196.00</td>\n",
       "      <td>95.00</td>\n",
       "      <td>310.0</td>\n",
       "      <td>31.0</td>\n",
       "    </tr>\n",
       "    <tr>\n",
       "      <th>male</th>\n",
       "      <td>89.00</td>\n",
       "      <td>517.00</td>\n",
       "      <td>84.00</td>\n",
       "      <td>690.0</td>\n",
       "      <td>69.0</td>\n",
       "    </tr>\n",
       "    <tr>\n",
       "      <th>total_by_housing</th>\n",
       "      <td>108.00</td>\n",
       "      <td>713.00</td>\n",
       "      <td>179.00</td>\n",
       "      <td>1000.0</td>\n",
       "      <td>100.0</td>\n",
       "    </tr>\n",
       "    <tr>\n",
       "      <th>female_exp</th>\n",
       "      <td>33.48</td>\n",
       "      <td>221.03</td>\n",
       "      <td>55.49</td>\n",
       "      <td>310.0</td>\n",
       "      <td>31.0</td>\n",
       "    </tr>\n",
       "    <tr>\n",
       "      <th>male_exp</th>\n",
       "      <td>74.52</td>\n",
       "      <td>491.97</td>\n",
       "      <td>123.51</td>\n",
       "      <td>690.0</td>\n",
       "      <td>69.0</td>\n",
       "    </tr>\n",
       "  </tbody>\n",
       "</table>\n",
       "</div>"
      ],
      "text/plain": [
       "housing             free     own    rent  total_by_sex  perc_gender\n",
       "sex                                                                \n",
       "female             19.00  196.00   95.00         310.0         31.0\n",
       "male               89.00  517.00   84.00         690.0         69.0\n",
       "total_by_housing  108.00  713.00  179.00        1000.0        100.0\n",
       "female_exp         33.48  221.03   55.49         310.0         31.0\n",
       "male_exp           74.52  491.97  123.51         690.0         69.0"
      ]
     },
     "execution_count": 4,
     "metadata": {},
     "output_type": "execute_result"
    }
   ],
   "source": [
    "(\n",
    "    pd.pivot_table(german_credit, \n",
    "              index = 'sex',\n",
    "              columns = 'housing',\n",
    "              values = 'credit_amount',\n",
    "              aggfunc = 'count')\n",
    "    .T\n",
    "    .assign(total_by_housing = lambda x: x.sum(axis = 1)).T\n",
    "    .assign(total_by_sex = lambda x: x.sum(axis = 1))\n",
    "    .assign(perc_gender = lambda x: x['total_by_sex'] * 100 / 1000)\n",
    "    .T\n",
    "    .assign(\n",
    "        female_exp = lambda x: x['total_by_housing'] * 0.31,\n",
    "        male_exp = lambda x: x['total_by_housing'] * 0.69\n",
    "    ).T\n",
    ")"
   ]
  },
  {
   "cell_type": "code",
   "execution_count": 15,
   "id": "77e64c79-e3fb-407b-b153-245d9cad40e1",
   "metadata": {},
   "outputs": [],
   "source": [
    "# Get expected distribution\n",
    "def get_expected(df):\n",
    "    sum_all = df.sum().sum()\n",
    "    x_list = []\n",
    "    for x in df.T.sum():\n",
    "        y_list = []\n",
    "        for y in df.sum():\n",
    "            y_list.append(x * y)\n",
    "        x_list.append(y_list)\n",
    "    return pd.DataFrame(x_list, index = df.index + '_exp', columns = df.columns)/sum_all"
   ]
  },
  {
   "cell_type": "code",
   "execution_count": 25,
   "id": "fcec14b1-fe8d-4c89-bf2d-32a3318f688b",
   "metadata": {},
   "outputs": [
    {
     "data": {
      "text/html": [
       "<div>\n",
       "<style scoped>\n",
       "    .dataframe tbody tr th:only-of-type {\n",
       "        vertical-align: middle;\n",
       "    }\n",
       "\n",
       "    .dataframe tbody tr th {\n",
       "        vertical-align: top;\n",
       "    }\n",
       "\n",
       "    .dataframe thead th {\n",
       "        text-align: right;\n",
       "    }\n",
       "</style>\n",
       "<table border=\"1\" class=\"dataframe\">\n",
       "  <thead>\n",
       "    <tr style=\"text-align: right;\">\n",
       "      <th>housing</th>\n",
       "      <th>free</th>\n",
       "      <th>own</th>\n",
       "      <th>rent</th>\n",
       "      <th>total</th>\n",
       "    </tr>\n",
       "    <tr>\n",
       "      <th>sex</th>\n",
       "      <th></th>\n",
       "      <th></th>\n",
       "      <th></th>\n",
       "      <th></th>\n",
       "    </tr>\n",
       "  </thead>\n",
       "  <tbody>\n",
       "    <tr>\n",
       "      <th>female</th>\n",
       "      <td>19.00</td>\n",
       "      <td>196.00</td>\n",
       "      <td>95.00</td>\n",
       "      <td>310.0</td>\n",
       "    </tr>\n",
       "    <tr>\n",
       "      <th>male</th>\n",
       "      <td>89.00</td>\n",
       "      <td>517.00</td>\n",
       "      <td>84.00</td>\n",
       "      <td>690.0</td>\n",
       "    </tr>\n",
       "    <tr>\n",
       "      <th>sum_by_housing</th>\n",
       "      <td>108.00</td>\n",
       "      <td>713.00</td>\n",
       "      <td>179.00</td>\n",
       "      <td>1000.0</td>\n",
       "    </tr>\n",
       "    <tr>\n",
       "      <th>female_exp</th>\n",
       "      <td>33.48</td>\n",
       "      <td>221.03</td>\n",
       "      <td>55.49</td>\n",
       "      <td>310.0</td>\n",
       "    </tr>\n",
       "    <tr>\n",
       "      <th>male_exp</th>\n",
       "      <td>74.52</td>\n",
       "      <td>491.97</td>\n",
       "      <td>123.51</td>\n",
       "      <td>690.0</td>\n",
       "    </tr>\n",
       "  </tbody>\n",
       "</table>\n",
       "</div>"
      ],
      "text/plain": [
       "housing           free     own    rent   total\n",
       "sex                                           \n",
       "female           19.00  196.00   95.00   310.0\n",
       "male             89.00  517.00   84.00   690.0\n",
       "sum_by_housing  108.00  713.00  179.00  1000.0\n",
       "female_exp       33.48  221.03   55.49   310.0\n",
       "male_exp         74.52  491.97  123.51   690.0"
      ]
     },
     "execution_count": 25,
     "metadata": {},
     "output_type": "execute_result"
    }
   ],
   "source": [
    "df_result = (\n",
    "    pd.pivot_table(german_credit, \n",
    "              index = 'sex',\n",
    "              columns = 'housing',\n",
    "              values = 'credit_amount',\n",
    "              aggfunc = 'count')\n",
    ")\n",
    "(   \n",
    "pd.concat([df_result.T.assign(sum_by_housing = lambda x: x.sum(axis = 1)).T, get_expected(df_result) ], axis=0)\n",
    ".assign(total = lambda x: x.sum(axis = 1))\n",
    ")"
   ]
  },
  {
   "cell_type": "markdown",
   "id": "c9112d83-0992-4763-a83f-2d640458cce9",
   "metadata": {},
   "source": [
    "### Hypothesis\n",
    "> $H_0: $\n",
    ">     sex $\\neq$ housing\n",
    "\n",
    "| housing |\tfree |\town |\trent |\ttotal|\n",
    "| :-: |:-: |:-: |:-: |:-: |\n",
    "|sex |\t||||\t\t\t\n",
    "|female |\t19| \t196| \t95| \t310|\n",
    "|male |\t89 \t|517 |\t84 \t|690|\n",
    "|total |\t108 \t|713 |\t179 |\t1000|\n",
    "\n",
    ">Female total perc - 31% <br>\n",
    "Male total perc - 69%\n",
    "\n",
    "### Calculating formula\n",
    "$$ f_{ij} = \\frac{f_i \\cdot f_j}{N} $$\n",
    "\n",
    "| housing |\tfree |\town |\trent |\ttotal|\n",
    "| :-: |:-: |:-: |:-: |:-: |\n",
    "|sex |\t||||\t\t\t\n",
    "|female |\t19| \t196| \t95| \t310|\n",
    "|male |\t89 \t|517 |\t84 \t|690|\n",
    "|sum_by_housing |\t108 \t|713 |\t179 |\t1000|\n",
    "|female_exp |\t33.48 |\t221.03 |\t55.49 |\t310.0 |\n",
    "|male_exp |\t74.52 |\t491.97 |123.51 | \t690.0 |\n",
    "\n",
    "```=> 108 * 310 / 1000, 713 * 310 / 1000 etc.```\n",
    "\n",
    "<br>\n",
    "<center><img src=\"df_res.png\" width=\"400\"/></center>\n",
    "\n",
    "<center><h3>Get expected from scipy.stats</h3></center>\n",
    "\n",
    "<br>\n",
    "\n",
    "<div class=\"alert alert-block alert-warning\">\n",
    "\n",
    "```import scipy.stats as sps```<br>\n",
    "```sps.contingency.expected_freq(([10, 6], [5, 15]))```\n",
    "</div>\n",
    "<br>"
   ]
  },
  {
   "cell_type": "markdown",
   "id": "5c247a12-88ac-440a-a852-6c5aac8bc4eb",
   "metadata": {},
   "source": [
    "### Task 1\n",
    ">В таблице представлены результаты эксперимента, направленного на проверку гипотезы\n",
    ">о взаимосвязи двух номинативных переменных с двумя градациями.\n",
    ">Рассчитайте ожидаемые частоты для проверки нулевой гипотезы о независимости двух переменных X и Y.\n",
    "\n",
    "<center><img src=\"https://ucarecdn.com/f5fdc068-01a7-4533-b9b2-fe3ed07de382/\" width = 600></center>\n",
    "\n",
    "В поле для ответа напишите максимальное значение из четырех ожидаемых частот."
   ]
  },
  {
   "cell_type": "code",
   "execution_count": 8,
   "id": "f19c3ae6-3717-439f-8e42-023b55781190",
   "metadata": {},
   "outputs": [
    {
     "data": {
      "text/html": [
       "<div>\n",
       "<style scoped>\n",
       "    .dataframe tbody tr th:only-of-type {\n",
       "        vertical-align: middle;\n",
       "    }\n",
       "\n",
       "    .dataframe tbody tr th {\n",
       "        vertical-align: top;\n",
       "    }\n",
       "\n",
       "    .dataframe thead th {\n",
       "        text-align: right;\n",
       "    }\n",
       "</style>\n",
       "<table border=\"1\" class=\"dataframe\">\n",
       "  <thead>\n",
       "    <tr style=\"text-align: right;\">\n",
       "      <th></th>\n",
       "      <th>first_x</th>\n",
       "      <th>second_x</th>\n",
       "    </tr>\n",
       "  </thead>\n",
       "  <tbody>\n",
       "    <tr>\n",
       "      <th>first_y</th>\n",
       "      <td>10</td>\n",
       "      <td>6</td>\n",
       "    </tr>\n",
       "    <tr>\n",
       "      <th>second_y</th>\n",
       "      <td>5</td>\n",
       "      <td>15</td>\n",
       "    </tr>\n",
       "  </tbody>\n",
       "</table>\n",
       "</div>"
      ],
      "text/plain": [
       "          first_x  second_x\n",
       "first_y        10         6\n",
       "second_y        5        15"
      ]
     },
     "execution_count": 8,
     "metadata": {},
     "output_type": "execute_result"
    }
   ],
   "source": [
    "df_task1 = pd.DataFrame([[10, 6], [5, 15]], index = ['first_y', 'second_y'], columns = ['first_x', 'second_x'])\n",
    "df_task1"
   ]
  },
  {
   "cell_type": "code",
   "execution_count": 19,
   "id": "7e10b42a-39d5-4f03-a168-05bb45bf42a6",
   "metadata": {},
   "outputs": [
    {
     "data": {
      "text/plain": [
       "11.666666666666666"
      ]
     },
     "execution_count": 19,
     "metadata": {},
     "output_type": "execute_result"
    }
   ],
   "source": [
    "get_expected(df_task1).max().max()"
   ]
  },
  {
   "cell_type": "code",
   "execution_count": 24,
   "id": "f5d9c79c-13bf-40dd-abb5-32d98866e48f",
   "metadata": {},
   "outputs": [
    {
     "data": {
      "text/plain": [
       "array([[ 6.66666667,  9.33333333],\n",
       "       [ 8.33333333, 11.66666667]])"
      ]
     },
     "execution_count": 24,
     "metadata": {},
     "output_type": "execute_result"
    }
   ],
   "source": [
    "sps.contingency.expected_freq(([10, 6], [5, 15]))"
   ]
  },
  {
   "cell_type": "markdown",
   "id": "9f125d9b-02b3-4476-8f93-2708de911c81",
   "metadata": {},
   "source": [
    "<br>\n",
    "<center><h1>Analysis of contingency table</h1></center>\n",
    "<br>\n",
    "\n",
    "```Поправка Йейтса:```\n",
    "<br>\n",
    "\n",
    "$$ \\chi^2_{Yates} = \\sum_{n = 1}^k \\frac {(|f_o - f_e| - 0.5) ^ 2} {f_e}$$\n",
    "\n",
    "<div class=\"alert alert-block alert-danger\">\n",
    "<b>Поправка Йейтса</b> на непрерывность – это процедура, разработанная британским статистиком Франком Йейтсом (Frank Yates) для критерия независимости хи-квадрат при работе с таблицами 2×2. Распределение хи-квадрат непрерывное, однако данные, используемые в критерии хи-квадрат, дискретные, и поправка Йейтса была придумана как раз для того, чтобы исправить это несоответствие [...]<br>\n",
    "    Идея поправки Йейтса состоит в том, что уменьшение значения хи-квадрат приводит к уменьшению вероятности ошибки первого рода (ошибочного отвержения нулевой гипотезы). Однако использование поправки Йейтса одобряется далеко не всеми; некоторые исследователи считают, что она может приводить к слишком сильной коррекции с понижением мощности и повышению вероятности ошибки второго рода (ошибочного неотвержения нулевой гипотезы). Некоторые статистики отвергают поправку Йейтса в принципе, хотя другие находят ее полезной в случае разреженных данных, особенно если хотя бы в одной ячейке ожидаемая величина меньше 5.\n",
    "</div>\n",
    "\n",
    "<h3>Calculations in Python</h3>\n",
    "<br>\n",
    "<div class=\"alert alert-block alert-warning\">\n",
    "\n",
    "```from scipy.stats import chi2_contingency```<br>\n",
    "```chi2, p_value, ddof, expected = chi2_contingency(observed_values)```\n",
    "</div>\n",
    "<br>\n"
   ]
  },
  {
   "cell_type": "code",
   "execution_count": 26,
   "id": "f100379f-7393-4fb2-837a-a89b8906af7a",
   "metadata": {},
   "outputs": [
    {
     "data": {
      "text/html": [
       "<div>\n",
       "<style scoped>\n",
       "    .dataframe tbody tr th:only-of-type {\n",
       "        vertical-align: middle;\n",
       "    }\n",
       "\n",
       "    .dataframe tbody tr th {\n",
       "        vertical-align: top;\n",
       "    }\n",
       "\n",
       "    .dataframe thead th {\n",
       "        text-align: right;\n",
       "    }\n",
       "</style>\n",
       "<table border=\"1\" class=\"dataframe\">\n",
       "  <thead>\n",
       "    <tr style=\"text-align: right;\">\n",
       "      <th>housing</th>\n",
       "      <th>free</th>\n",
       "      <th>own</th>\n",
       "      <th>rent</th>\n",
       "    </tr>\n",
       "    <tr>\n",
       "      <th>sex</th>\n",
       "      <th></th>\n",
       "      <th></th>\n",
       "      <th></th>\n",
       "    </tr>\n",
       "  </thead>\n",
       "  <tbody>\n",
       "    <tr>\n",
       "      <th>female</th>\n",
       "      <td>19</td>\n",
       "      <td>196</td>\n",
       "      <td>95</td>\n",
       "    </tr>\n",
       "    <tr>\n",
       "      <th>male</th>\n",
       "      <td>89</td>\n",
       "      <td>517</td>\n",
       "      <td>84</td>\n",
       "    </tr>\n",
       "  </tbody>\n",
       "</table>\n",
       "</div>"
      ],
      "text/plain": [
       "housing  free  own  rent\n",
       "sex                     \n",
       "female     19  196    95\n",
       "male       89  517    84"
      ]
     },
     "execution_count": 26,
     "metadata": {},
     "output_type": "execute_result"
    }
   ],
   "source": [
    "pd.pivot_table(german_credit, \n",
    "              index = 'sex',\n",
    "              columns = 'housing',\n",
    "              values = 'credit_amount',\n",
    "              aggfunc = 'count')"
   ]
  },
  {
   "cell_type": "code",
   "execution_count": 37,
   "id": "07213aa1-d592-41b5-95a9-7d0d02f4e4a8",
   "metadata": {},
   "outputs": [
    {
     "data": {
      "text/plain": [
       "'chi2 = 53.95497847218782, p_value = 1.922318250514252e-12, dof = 2'"
      ]
     },
     "execution_count": 37,
     "metadata": {},
     "output_type": "execute_result"
    }
   ],
   "source": [
    "chi2, p_value, dof, expected = sps.chi2_contingency(pd.pivot_table(german_credit, \n",
    "              index = 'sex',\n",
    "              columns = 'housing',\n",
    "              values = 'credit_amount',\n",
    "              aggfunc = 'count'))\n",
    "f'chi2 = {chi2}, p_value = {p_value}, dof = {ddof}'"
   ]
  },
  {
   "cell_type": "markdown",
   "id": "7021b2e5-ad4e-4916-87b6-ac85229b6e07",
   "metadata": {},
   "source": [
    "<br>\n",
    "<center> \n",
    "<h1>Contingency table age - housing from german_credit</h1>\n",
    "</center>\n",
    "\n",
    "<div>\n",
    "<style scoped=\"\">\n",
    "    .dataframe tbody tr th:only-of-type {\n",
    "        vertical-align: middle;\n",
    "    }\n",
    "\n",
    "    .dataframe tbody tr th {\n",
    "        vertical-align: top;\n",
    "    }\n",
    "\n",
    "    .dataframe thead th {\n",
    "        text-align: right;\n",
    "    }\n",
    "</style>\n",
    "<table border=\"1\" class=\"dataframe\">\n",
    "  <thead>\n",
    "    <tr style=\"text-align: right;\">\n",
    "      <th>age_groups</th>\n",
    "      <th>young</th>\n",
    "      <th>middle</th>\n",
    "      <th>aged</th>\n",
    "    </tr>\n",
    "    <tr>\n",
    "      <th>housing</th>\n",
    "      <th></th>\n",
    "      <th></th>\n",
    "      <th></th>\n",
    "    </tr>\n",
    "  </thead>\n",
    "  <tbody>\n",
    "    <tr>\n",
    "      <th>free</th>\n",
    "      <td>41</td>\n",
    "      <td>49</td>\n",
    "      <td>18</td>\n",
    "    </tr>\n",
    "    <tr>\n",
    "      <th>own</th>\n",
    "      <td>472</td>\n",
    "      <td>199</td>\n",
    "      <td>42</td>\n",
    "    </tr>\n",
    "    <tr>\n",
    "      <th>rent</th>\n",
    "      <td>143</td>\n",
    "      <td>28</td>\n",
    "      <td>8</td>\n",
    "    </tr>\n",
    "  </tbody>\n",
    "</table>\n",
    "</div>"
   ]
  },
  {
   "cell_type": "code",
   "execution_count": 4,
   "id": "c77ec74a-a8bc-4488-b2b5-32dc4d1d59e3",
   "metadata": {},
   "outputs": [
    {
     "data": {
      "text/html": [
       "<div>\n",
       "<style scoped>\n",
       "    .dataframe tbody tr th:only-of-type {\n",
       "        vertical-align: middle;\n",
       "    }\n",
       "\n",
       "    .dataframe tbody tr th {\n",
       "        vertical-align: top;\n",
       "    }\n",
       "\n",
       "    .dataframe thead th {\n",
       "        text-align: right;\n",
       "    }\n",
       "</style>\n",
       "<table border=\"1\" class=\"dataframe\">\n",
       "  <thead>\n",
       "    <tr style=\"text-align: right;\">\n",
       "      <th>age_groups</th>\n",
       "      <th>young</th>\n",
       "      <th>middle</th>\n",
       "      <th>aged</th>\n",
       "    </tr>\n",
       "    <tr>\n",
       "      <th>housing</th>\n",
       "      <th></th>\n",
       "      <th></th>\n",
       "      <th></th>\n",
       "    </tr>\n",
       "  </thead>\n",
       "  <tbody>\n",
       "    <tr>\n",
       "      <th>free</th>\n",
       "      <td>41</td>\n",
       "      <td>49</td>\n",
       "      <td>18</td>\n",
       "    </tr>\n",
       "    <tr>\n",
       "      <th>own</th>\n",
       "      <td>472</td>\n",
       "      <td>199</td>\n",
       "      <td>42</td>\n",
       "    </tr>\n",
       "    <tr>\n",
       "      <th>rent</th>\n",
       "      <td>143</td>\n",
       "      <td>28</td>\n",
       "      <td>8</td>\n",
       "    </tr>\n",
       "  </tbody>\n",
       "</table>\n",
       "</div>"
      ],
      "text/plain": [
       "age_groups  young  middle  aged\n",
       "housing                        \n",
       "free           41      49    18\n",
       "own           472     199    42\n",
       "rent          143      28     8"
      ]
     },
     "execution_count": 4,
     "metadata": {},
     "output_type": "execute_result"
    }
   ],
   "source": [
    "df_age_housing = pd.pivot_table(\n",
    "    german_credit\n",
    "    .assign(age_groups = lambda x: pd.cut(x['age'], 3, labels = ['young', 'middle', 'aged'])),\n",
    "    index = 'housing',\n",
    "    columns = 'age_groups',\n",
    "    values = 'credit_amount',\n",
    "    aggfunc = 'count'\n",
    ")\n",
    "df_age_housing"
   ]
  },
  {
   "cell_type": "markdown",
   "id": "fa088e3f-8647-4d3b-b752-8b956a1e11b1",
   "metadata": {},
   "source": [
    "<h3>Expected values</h3>\n",
    "<div>\n",
    "<style scoped=\"\">\n",
    "    .dataframe tbody tr th:only-of-type {\n",
    "        vertical-align: middle;\n",
    "    }\n",
    "\n",
    "    .dataframe tbody tr th {\n",
    "        vertical-align: top;\n",
    "    }\n",
    "\n",
    "    .dataframe thead th {\n",
    "        text-align: right;\n",
    "    }\n",
    "</style>\n",
    "<table border=\"1\" class=\"dataframe\">\n",
    "  <thead>\n",
    "    <tr style=\"text-align: right;\">\n",
    "      <th>age_groups</th>\n",
    "      <th>young</th>\n",
    "      <th>middle</th>\n",
    "      <th>aged</th>\n",
    "    </tr>\n",
    "    <tr>\n",
    "      <th>housing</th>\n",
    "      <th></th>\n",
    "      <th></th>\n",
    "      <th></th>\n",
    "    </tr>\n",
    "  </thead>\n",
    "  <tbody>\n",
    "    <tr>\n",
    "      <th>free</th>\n",
    "      <td>70.848</td>\n",
    "      <td>29.808</td>\n",
    "      <td>7.344</td>\n",
    "    </tr>\n",
    "    <tr>\n",
    "      <th>own</th>\n",
    "      <td>467.728</td>\n",
    "      <td>196.788</td>\n",
    "      <td>48.484</td>\n",
    "    </tr>\n",
    "    <tr>\n",
    "      <th>rent</th>\n",
    "      <td>117.424</td>\n",
    "      <td>49.404</td>\n",
    "      <td>12.172</td>\n",
    "    </tr>\n",
    "  </tbody>\n",
    "</table>\n",
    "</div>"
   ]
  },
  {
   "cell_type": "code",
   "execution_count": 39,
   "id": "774d9f2d-56ba-46b9-bdef-64c1e7d04b78",
   "metadata": {},
   "outputs": [
    {
     "data": {
      "text/html": [
       "<div>\n",
       "<style scoped>\n",
       "    .dataframe tbody tr th:only-of-type {\n",
       "        vertical-align: middle;\n",
       "    }\n",
       "\n",
       "    .dataframe tbody tr th {\n",
       "        vertical-align: top;\n",
       "    }\n",
       "\n",
       "    .dataframe thead th {\n",
       "        text-align: right;\n",
       "    }\n",
       "</style>\n",
       "<table border=\"1\" class=\"dataframe\">\n",
       "  <thead>\n",
       "    <tr style=\"text-align: right;\">\n",
       "      <th>age_groups</th>\n",
       "      <th>young</th>\n",
       "      <th>middle</th>\n",
       "      <th>aged</th>\n",
       "    </tr>\n",
       "    <tr>\n",
       "      <th>housing</th>\n",
       "      <th></th>\n",
       "      <th></th>\n",
       "      <th></th>\n",
       "    </tr>\n",
       "  </thead>\n",
       "  <tbody>\n",
       "    <tr>\n",
       "      <th>free</th>\n",
       "      <td>70.848</td>\n",
       "      <td>29.808</td>\n",
       "      <td>7.344</td>\n",
       "    </tr>\n",
       "    <tr>\n",
       "      <th>own</th>\n",
       "      <td>467.728</td>\n",
       "      <td>196.788</td>\n",
       "      <td>48.484</td>\n",
       "    </tr>\n",
       "    <tr>\n",
       "      <th>rent</th>\n",
       "      <td>117.424</td>\n",
       "      <td>49.404</td>\n",
       "      <td>12.172</td>\n",
       "    </tr>\n",
       "  </tbody>\n",
       "</table>\n",
       "</div>"
      ],
      "text/plain": [
       "age_groups    young   middle    aged\n",
       "housing                             \n",
       "free         70.848   29.808   7.344\n",
       "own         467.728  196.788  48.484\n",
       "rent        117.424   49.404  12.172"
      ]
     },
     "execution_count": 39,
     "metadata": {},
     "output_type": "execute_result"
    }
   ],
   "source": [
    "pd.DataFrame(sps.contingency.expected_freq(df_age_housing), index = df_age_housing.index, columns = df_age_housing.columns)"
   ]
  },
  {
   "cell_type": "markdown",
   "id": "1db882f1-abe9-49b5-aaa3-d48913bce06c",
   "metadata": {},
   "source": [
    "<h3>Analysis of results</h3>"
   ]
  },
  {
   "cell_type": "code",
   "execution_count": 36,
   "id": "73d49be7-5ee2-498e-b9de-1ce418082623",
   "metadata": {},
   "outputs": [
    {
     "data": {
      "text/plain": [
       "Chi2ContingencyResult(statistic=57.598175579621895, pvalue=9.266549685484865e-12, dof=4, expected_freq=array([[ 70.848,  29.808,   7.344],\n",
       "       [467.728, 196.788,  48.484],\n",
       "       [117.424,  49.404,  12.172]]))"
      ]
     },
     "execution_count": 36,
     "metadata": {},
     "output_type": "execute_result"
    }
   ],
   "source": [
    "sps.chi2_contingency(df_age_housing)"
   ]
  },
  {
   "cell_type": "markdown",
   "id": "7e061178-ab1f-4b42-89c3-32de9c98b749",
   "metadata": {},
   "source": [
    "<div class = 'alert alert-block alert-info'>\n",
    "    \n",
    "> P-value < 0.05  $=>$ We reject \n",
    "$H_0$ hypotisis\n",
    "\n",
    "</div>"
   ]
  },
  {
   "cell_type": "markdown",
   "id": "c7b69802-4109-46ef-806f-ee5d1408d15d",
   "metadata": {},
   "source": [
    "<h3>Task 2</h3>\n",
    "<p>Перед знаком стоп некоторые водители останавливаются полностью, другие лишь сбавляют скорость, но некоторые не останавливаются вообще. Важнейший вопрос, есть ли взаимосвязь между полом и стилем вождения автомобиля!  Ниже представлена таблица сопряженности данных исследования, посвященного этому вопросу.</p>"
   ]
  },
  {
   "cell_type": "markdown",
   "id": "c1169686-9b51-498d-b545-53deb971e485",
   "metadata": {},
   "source": [
    "<center><img alt=\"\" height=\"126\" src=\"https://ucarecdn.com/fd5dfb7a-4de4-4e78-bfb1-c3fb2a5943e0/\" width=\"410\"></center>"
   ]
  },
  {
   "cell_type": "markdown",
   "id": "a2e4ba9a-4d2f-4825-ba13-bcfe7e850229",
   "metadata": {},
   "source": [
    "<div class='alert alert-block alert-success '>\n",
    "\n",
    "> Zero hypotisis: men and women stoped, slower, don't stop in equal probability\n",
    "</div>"
   ]
  },
  {
   "cell_type": "code",
   "execution_count": 42,
   "id": "eaf3b9ed-bbdb-4d98-883a-98cb38d10e91",
   "metadata": {},
   "outputs": [
    {
     "data": {
      "text/html": [
       "<div>\n",
       "<style scoped>\n",
       "    .dataframe tbody tr th:only-of-type {\n",
       "        vertical-align: middle;\n",
       "    }\n",
       "\n",
       "    .dataframe tbody tr th {\n",
       "        vertical-align: top;\n",
       "    }\n",
       "\n",
       "    .dataframe thead th {\n",
       "        text-align: right;\n",
       "    }\n",
       "</style>\n",
       "<table border=\"1\" class=\"dataframe\">\n",
       "  <thead>\n",
       "    <tr style=\"text-align: right;\">\n",
       "      <th></th>\n",
       "      <th>male</th>\n",
       "      <th>female</th>\n",
       "    </tr>\n",
       "  </thead>\n",
       "  <tbody>\n",
       "    <tr>\n",
       "      <th>stopped</th>\n",
       "      <td>20</td>\n",
       "      <td>15</td>\n",
       "    </tr>\n",
       "    <tr>\n",
       "      <th>slow</th>\n",
       "      <td>11</td>\n",
       "      <td>12</td>\n",
       "    </tr>\n",
       "    <tr>\n",
       "      <th>not_stopped</th>\n",
       "      <td>7</td>\n",
       "      <td>9</td>\n",
       "    </tr>\n",
       "  </tbody>\n",
       "</table>\n",
       "</div>"
      ],
      "text/plain": [
       "             male  female\n",
       "stopped        20      15\n",
       "slow           11      12\n",
       "not_stopped     7       9"
      ]
     },
     "execution_count": 42,
     "metadata": {},
     "output_type": "execute_result"
    }
   ],
   "source": [
    "df_stop = pd.DataFrame([[20, 15], [11, 12], [7, 9]], index = ['stopped', 'slow', 'not_stopped'], columns = ['male', 'female'])\n",
    "df_stop"
   ]
  },
  {
   "cell_type": "markdown",
   "id": "0e2f5ef9-0370-4a25-b7f4-996e3326090a",
   "metadata": {},
   "source": [
    "<h3>Expected frequencies</h3>"
   ]
  },
  {
   "cell_type": "code",
   "execution_count": 44,
   "id": "54847b7b-f26f-49c5-b81e-d026406bffba",
   "metadata": {},
   "outputs": [
    {
     "data": {
      "text/html": [
       "<div>\n",
       "<style scoped>\n",
       "    .dataframe tbody tr th:only-of-type {\n",
       "        vertical-align: middle;\n",
       "    }\n",
       "\n",
       "    .dataframe tbody tr th {\n",
       "        vertical-align: top;\n",
       "    }\n",
       "\n",
       "    .dataframe thead th {\n",
       "        text-align: right;\n",
       "    }\n",
       "</style>\n",
       "<table border=\"1\" class=\"dataframe\">\n",
       "  <thead>\n",
       "    <tr style=\"text-align: right;\">\n",
       "      <th></th>\n",
       "      <th>male</th>\n",
       "      <th>female</th>\n",
       "    </tr>\n",
       "  </thead>\n",
       "  <tbody>\n",
       "    <tr>\n",
       "      <th>stopped</th>\n",
       "      <td>17.972973</td>\n",
       "      <td>17.027027</td>\n",
       "    </tr>\n",
       "    <tr>\n",
       "      <th>slow</th>\n",
       "      <td>11.810811</td>\n",
       "      <td>11.189189</td>\n",
       "    </tr>\n",
       "    <tr>\n",
       "      <th>not_stopped</th>\n",
       "      <td>8.216216</td>\n",
       "      <td>7.783784</td>\n",
       "    </tr>\n",
       "  </tbody>\n",
       "</table>\n",
       "</div>"
      ],
      "text/plain": [
       "                  male     female\n",
       "stopped      17.972973  17.027027\n",
       "slow         11.810811  11.189189\n",
       "not_stopped   8.216216   7.783784"
      ]
     },
     "execution_count": 44,
     "metadata": {},
     "output_type": "execute_result"
    }
   ],
   "source": [
    "pd.DataFrame(sps.contingency.expected_freq(df_stop), index = df_stop.index, columns = df_stop.columns)"
   ]
  },
  {
   "cell_type": "markdown",
   "id": "1c17d173-ee85-430b-8285-8a7c0efd9223",
   "metadata": {},
   "source": [
    "<h3>Results</h3>"
   ]
  },
  {
   "cell_type": "code",
   "execution_count": 59,
   "id": "dd6c7088-2fb4-4f3d-88d4-dfa37174c6bd",
   "metadata": {},
   "outputs": [
    {
     "data": {
      "text/plain": [
       "'chi = 0.9544070774762996, p_value = 0.6205162173513055'"
      ]
     },
     "execution_count": 59,
     "metadata": {},
     "output_type": "execute_result"
    }
   ],
   "source": [
    "chi, p_value, *tr = sps.chi2_contingency(df_stop)\n",
    "f'chi = {chi}, p_value = {p_value}'"
   ]
  },
  {
   "cell_type": "markdown",
   "id": "4c9f84e2-2956-4a82-a546-6812f34bac9c",
   "metadata": {},
   "source": [
    "<div class = 'alert alert-block alert-info'>\n",
    "\n",
    "> Value of p-value > 0.05, we can't reject zero hypotisis\n",
    "</div>"
   ]
  },
  {
   "cell_type": "markdown",
   "id": "ddfc63f1-a8ed-4cf1-bf9e-c90fbef00745",
   "metadata": {},
   "source": [
    "<center><h1>Visualization of residuals</h1></center>"
   ]
  },
  {
   "cell_type": "code",
   "execution_count": 108,
   "id": "853116fe-5913-45c3-b175-586ef1c9d456",
   "metadata": {},
   "outputs": [],
   "source": [
    "import matplotlib.pyplot as plt\n",
    "from statsmodels.graphics.mosaicplot import mosaic"
   ]
  },
  {
   "cell_type": "code",
   "execution_count": 109,
   "id": "60bcd8f5-6e8d-47cb-8808-83004ad0b64a",
   "metadata": {},
   "outputs": [
    {
     "data": {
      "image/png": "[encoded data removed]",
      "text/plain": [
       "<Figure size 640x480 with 3 Axes>"
      ]
     },
     "metadata": {},
     "output_type": "display_data"
    }
   ],
   "source": [
    "mosaic(german_credit, ['housing', 'sex'], gap = 0.01);"
   ]
  },
  {
   "cell_type": "code",
   "execution_count": null,
   "id": "d8cb68df-c093-4edd-8fd5-7bd307965008",
   "metadata": {},
   "outputs": [],
   "source": []
  },
  {
   "cell_type": "code",
   "execution_count": null,
   "id": "f6dd36b2-7c2a-4205-808c-47420d8b8ab3",
   "metadata": {},
   "outputs": [],
   "source": []
  },
  {
   "cell_type": "code",
   "execution_count": null,
   "id": "83208f06-78b3-4616-a75c-143728d045f5",
   "metadata": {},
   "outputs": [],
   "source": []
  },
  {
   "cell_type": "code",
   "execution_count": null,
   "id": "8565af2a-ad49-4cb6-a51a-a8e6c9b99452",
   "metadata": {},
   "outputs": [],
   "source": []
  },
  {
   "cell_type": "code",
   "execution_count": null,
   "id": "a106c57f-0abf-4221-b678-56d7d877812c",
   "metadata": {},
   "outputs": [],
   "source": [
    "\n",
    "\n",
    "\n",
    "\n",
    "\n",
    "\n",
    "\n",
    "\n",
    "\n",
    "\n",
    "\n",
    "\n"
   ]
  }
 ],
 "metadata": {
  "kernelspec": {
   "display_name": "Python 3 (ipykernel)",
   "language": "python",
   "name": "python3"
  },
  "language_info": {
   "codemirror_mode": {
    "name": "ipython",
    "version": 3
   },
   "file_extension": ".py",
   "mimetype": "text/x-python",
   "name": "python",
   "nbconvert_exporter": "python",
   "pygments_lexer": "ipython3",
   "version": "3.12.3"
  }
 },
 "nbformat": 4,
 "nbformat_minor": 5
}
