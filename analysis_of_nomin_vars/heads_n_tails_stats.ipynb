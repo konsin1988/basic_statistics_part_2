{
 "cells": [
  {
   "cell_type": "code",
   "execution_count": 1,
   "id": "84400c86-0244-49ab-b93f-cc160df773ee",
   "metadata": {},
   "outputs": [],
   "source": [
    "import pandas as pd\n",
    "import numpy as np\n",
    "import sqlite3\n",
    "import scipy.stats as st\n",
    "\n",
    "connection = sqlite3.connect('german_credit.db')\n",
    "cursor = connection.cursor()\n",
    "\n",
    "def select(query):\n",
    "    try:\n",
    "        return pd.read_sql_query(query, connection)\n",
    "    except:\n",
    "        cursor.executescript(query)\n",
    "        connection.commit()\n",
    "\n",
    "from IPython.display import Markdown as md"
   ]
  },
  {
   "cell_type": "code",
   "execution_count": 2,
   "id": "5d2e3ad5-0661-452f-84c7-3dde66bce03e",
   "metadata": {},
   "outputs": [
    {
     "data": {
      "text/html": [
       "<div>\n",
       "<style scoped>\n",
       "    .dataframe tbody tr th:only-of-type {\n",
       "        vertical-align: middle;\n",
       "    }\n",
       "\n",
       "    .dataframe tbody tr th {\n",
       "        vertical-align: top;\n",
       "    }\n",
       "\n",
       "    .dataframe thead th {\n",
       "        text-align: right;\n",
       "    }\n",
       "</style>\n",
       "<table border=\"1\" class=\"dataframe\">\n",
       "  <thead>\n",
       "    <tr style=\"text-align: right;\">\n",
       "      <th></th>\n",
       "      <th>age</th>\n",
       "      <th>sex</th>\n",
       "      <th>job</th>\n",
       "      <th>housing</th>\n",
       "      <th>saving_accounts</th>\n",
       "      <th>checking_account</th>\n",
       "      <th>credit_amount</th>\n",
       "      <th>duration</th>\n",
       "      <th>purpose</th>\n",
       "      <th>default</th>\n",
       "      <th>contract_dt</th>\n",
       "      <th>client_id</th>\n",
       "    </tr>\n",
       "  </thead>\n",
       "  <tbody>\n",
       "    <tr>\n",
       "      <th>0</th>\n",
       "      <td>33</td>\n",
       "      <td>male</td>\n",
       "      <td>2</td>\n",
       "      <td>own</td>\n",
       "      <td>NaN</td>\n",
       "      <td>NaN</td>\n",
       "      <td>3074</td>\n",
       "      <td>9</td>\n",
       "      <td>radio/TV</td>\n",
       "      <td>0</td>\n",
       "      <td>2008-06-29 18:52:00</td>\n",
       "      <td>210</td>\n",
       "    </tr>\n",
       "    <tr>\n",
       "      <th>1</th>\n",
       "      <td>43</td>\n",
       "      <td>male</td>\n",
       "      <td>1</td>\n",
       "      <td>own</td>\n",
       "      <td>little</td>\n",
       "      <td>little</td>\n",
       "      <td>1344</td>\n",
       "      <td>12</td>\n",
       "      <td>car</td>\n",
       "      <td>0</td>\n",
       "      <td>2007-05-20 18:30:19</td>\n",
       "      <td>929</td>\n",
       "    </tr>\n",
       "    <tr>\n",
       "      <th>2</th>\n",
       "      <td>52</td>\n",
       "      <td>male</td>\n",
       "      <td>2</td>\n",
       "      <td>own</td>\n",
       "      <td>quite rich</td>\n",
       "      <td>NaN</td>\n",
       "      <td>936</td>\n",
       "      <td>9</td>\n",
       "      <td>education</td>\n",
       "      <td>0</td>\n",
       "      <td>2008-04-27 08:23:07</td>\n",
       "      <td>200</td>\n",
       "    </tr>\n",
       "    <tr>\n",
       "      <th>3</th>\n",
       "      <td>35</td>\n",
       "      <td>female</td>\n",
       "      <td>3</td>\n",
       "      <td>own</td>\n",
       "      <td>little</td>\n",
       "      <td>NaN</td>\n",
       "      <td>1393</td>\n",
       "      <td>11</td>\n",
       "      <td>car</td>\n",
       "      <td>0</td>\n",
       "      <td>2007-05-06 10:58:22</td>\n",
       "      <td>45</td>\n",
       "    </tr>\n",
       "    <tr>\n",
       "      <th>4</th>\n",
       "      <td>28</td>\n",
       "      <td>male</td>\n",
       "      <td>2</td>\n",
       "      <td>own</td>\n",
       "      <td>little</td>\n",
       "      <td>NaN</td>\n",
       "      <td>776</td>\n",
       "      <td>12</td>\n",
       "      <td>radio/TV</td>\n",
       "      <td>0</td>\n",
       "      <td>2007-07-21 13:22:14</td>\n",
       "      <td>358</td>\n",
       "    </tr>\n",
       "  </tbody>\n",
       "</table>\n",
       "</div>"
      ],
      "text/plain": [
       "   age     sex  job housing saving_accounts checking_account  credit_amount  \\\n",
       "0   33    male    2     own             NaN              NaN           3074   \n",
       "1   43    male    1     own          little           little           1344   \n",
       "2   52    male    2     own      quite rich              NaN            936   \n",
       "3   35  female    3     own          little              NaN           1393   \n",
       "4   28    male    2     own          little              NaN            776   \n",
       "\n",
       "   duration    purpose  default          contract_dt  client_id  \n",
       "0         9   radio/TV        0  2008-06-29 18:52:00        210  \n",
       "1        12        car        0  2007-05-20 18:30:19        929  \n",
       "2         9  education        0  2008-04-27 08:23:07        200  \n",
       "3        11        car        0  2007-05-06 10:58:22         45  \n",
       "4        12   radio/TV        0  2007-07-21 13:22:14        358  "
      ]
     },
     "execution_count": 2,
     "metadata": {},
     "output_type": "execute_result"
    }
   ],
   "source": [
    "german_credit = pd.read_csv('../german_credit_augmented.csv')\n",
    "german_credit.head()"
   ]
  },
  {
   "cell_type": "code",
   "execution_count": 3,
   "id": "094e8639-e1e8-4d8b-98fc-77d33b98fba1",
   "metadata": {},
   "outputs": [
    {
     "name": "stdout",
     "output_type": "stream",
     "text": [
      "<class 'pandas.core.frame.DataFrame'>\n",
      "RangeIndex: 1000 entries, 0 to 999\n",
      "Data columns (total 12 columns):\n",
      " #   Column            Non-Null Count  Dtype \n",
      "---  ------            --------------  ----- \n",
      " 0   age               1000 non-null   int64 \n",
      " 1   sex               1000 non-null   object\n",
      " 2   job               1000 non-null   int64 \n",
      " 3   housing           1000 non-null   object\n",
      " 4   saving_accounts   817 non-null    object\n",
      " 5   checking_account  606 non-null    object\n",
      " 6   credit_amount     1000 non-null   int64 \n",
      " 7   duration          1000 non-null   int64 \n",
      " 8   purpose           1000 non-null   object\n",
      " 9   default           1000 non-null   int64 \n",
      " 10  contract_dt       1000 non-null   object\n",
      " 11  client_id         1000 non-null   int64 \n",
      "dtypes: int64(6), object(6)\n",
      "memory usage: 93.9+ KB\n"
     ]
    }
   ],
   "source": [
    "german_credit.info()"
   ]
  },
  {
   "cell_type": "markdown",
   "id": "f8c7ea6b-c940-414f-a465-20bf2c723530",
   "metadata": {
    "editable": true,
    "slideshow": {
     "slide_type": ""
    },
    "tags": []
   },
   "source": [
    "### Difference between expected destribution and observed destribution of categorical var \n",
    " |   |  heads  |   tails   |   total | \n",
    " |:-:| :-:     |   :-:     |   :-:   |\n",
    "O |  20  |       40     |   60  |\n",
    "E | 30    |     30       |  60  |\n",
    "\n",
    "\n",
    "`O - observed` <br/> `E - expected`\n",
    "\n",
    "<div class=\"alert alert-block alert-info\">\n",
    "\n",
    "-  $H_0$ =>  $ P_{heads} = 0.5 $\n",
    "\n",
    "-  $H_1$ =>  $ P_{heads} \\neq 0.5 $\n",
    "</div>\n",
    "\n",
    "\n",
    "$$\n",
    "F =  \\frac {(20 - 30)^2} {30} + \\frac {(40 - 30^2)}{30} \\approx 6.7\n",
    "$$\n",
    "\n",
    "\n",
    "<div class=\"alert alert-block alert-warning\">\n",
    "<b>Example:</b> Use yellow boxes for examples that are not \n",
    "inside code cells, or use for mathematical formulas if needed.\n",
    "</div>\n",
    "<div class=\"alert alert-block alert-success\">\n",
    "<b>Up to you:</b> Use green boxes sparingly, and only for some specific \n",
    "purpose that the other boxes can't cover. For example, if you have a lot \n",
    "of related content to link to, maybe you decide to use green boxes for \n",
    "related links from each section of a notebook.\n",
    "</div>\n",
    "<div class=\"alert alert-block alert-danger\">\n",
    "<b>Just don't:</b> In general, avoid the red boxes. These should only be\n",
    "used for actions that might cause data loss or another major issue.\n",
    "</div>\n",
    "\n"
   ]
  },
  {
   "cell_type": "markdown",
   "id": "a3eae13d-2484-497b-9a88-8ed04e43ad04",
   "metadata": {},
   "source": [
    "## Formula of $\\chi^2$:\n",
    "\n",
    "$$  \n",
    "\\chi^2 = \\sum_{n=1} ^{n} {\\frac{(O_i - E_i)^2} {E_i}}\n",
    "$$"
   ]
  },
  {
   "cell_type": "markdown",
   "id": "4e50b8a0-e8d5-496b-ab34-763cda5f2626",
   "metadata": {},
   "source": [
    "### Calculating chi-squared (from scipy.stats)\n",
    "```\n",
    "    import scipy.stats as st\n",
    "    chi_squared, p_value = st.chisquare([1220, 1240])\n",
    "```"
   ]
  },
  {
   "cell_type": "code",
   "execution_count": 4,
   "id": "79b41b5f-f769-426b-ba1b-7b398941215f",
   "metadata": {},
   "outputs": [
    {
     "name": "stdout",
     "output_type": "stream",
     "text": [
      "chi_squared = 0.16260162601626016, p_value = 0.6867724711187833\n"
     ]
    }
   ],
   "source": [
    "chi_squared, p_value = st.chisquare([1220, 1240])\n",
    "print(f'chi_squared = {chi_squared}, p_value = {p_value}')"
   ]
  },
  {
   "cell_type": "markdown",
   "id": "97e1459a-371c-4d48-ab15-db0260ea3469",
   "metadata": {},
   "source": [
    "_____\n",
    "##### Task\n",
    "> Эмпирическое распределение частот некоторого номинативного признака с тремя градациями приняло вид\n",
    "18,55,2718,55,27. Предполагаемое теоретическое распределение — 1:2:1.\n",
    "\n",
    "Рассчитайте расстояние хи-квадрат"
   ]
  },
  {
   "cell_type": "code",
   "execution_count": 5,
   "id": "2e86413d-7d40-4607-9ba6-b4cb31e7abe4",
   "metadata": {},
   "outputs": [
    {
     "data": {
      "text/plain": [
       "'p-value = 0.26982005638468687'"
      ]
     },
     "execution_count": 5,
     "metadata": {},
     "output_type": "execute_result"
    }
   ],
   "source": [
    "f'p-value = {st.chisquare([18, 55, 27], f_exp=[25, 50, 25])[1]}'"
   ]
  },
  {
   "cell_type": "markdown",
   "id": "bc22c04c-3482-401a-9465-f30b8a3120b0",
   "metadata": {},
   "source": [
    "____\n",
    "### $\\chi$^2 for distribution with degrees of freedom equal 2\n",
    "```\n",
    "    from scipy.stats.distributions import chi2\n",
    "    chi2.ppf(df=2, q=0.95)\n",
    "```"
   ]
  },
  {
   "cell_type": "code",
   "execution_count": 6,
   "id": "33b1296a-3d6f-466b-a514-8882f7ea01bf",
   "metadata": {},
   "outputs": [
    {
     "data": {
      "text/plain": [
       "5.991464547107979"
      ]
     },
     "execution_count": 6,
     "metadata": {},
     "output_type": "execute_result"
    }
   ],
   "source": [
    "st.chi2.ppf(df = 2, q = 0.95)"
   ]
  },
  {
   "cell_type": "code",
   "execution_count": 13,
   "id": "dde6e357-fe39-4b82-b740-4836801edd96",
   "metadata": {},
   "outputs": [
    {
     "data": {
      "text/plain": [
       "Power_divergenceResult(statistic=6.666666666666667, pvalue=0.009823274507519235)"
      ]
     },
     "execution_count": 13,
     "metadata": {},
     "output_type": "execute_result"
    }
   ],
   "source": [
    "st.chisquare([20, 40], [30, 30])"
   ]
  },
  {
   "cell_type": "code",
   "execution_count": 19,
   "id": "b92232f9-cf5a-4cad-ac58-322e7d6b1cb8",
   "metadata": {},
   "outputs": [
    {
     "data": {
      "text/plain": [
       "Power_divergenceResult(statistic=1.0, pvalue=0.9625657732472964)"
      ]
     },
     "execution_count": 19,
     "metadata": {},
     "output_type": "execute_result"
    }
   ],
   "source": [
    "st.chisquare([11, 10, 10, 12, 8, 9], [10]*6)"
   ]
  },
  {
   "cell_type": "markdown",
   "id": "ba3f5b95-d271-4eb1-80b6-4dbf5360567f",
   "metadata": {},
   "source": [
    "# $\\chi$^2 for dice\n",
    "|  | 1 | 2 | 3 | 4 | 5|6|\n",
    "|:-:|:-:|:-:|:-:|:-:|:-:|:-:|\n",
    "|O|10|11|10|9|12|8|\n",
    "|E|10|10|10|10|10|10|\n",
    "\n",
    "\n",
    "### <u>Calculating in Python</u>:\n",
    "```\n",
    "    import scipy.stats as st\n",
    "    st.chisquare([10, 11, 10, 9, 12, 8], [10]*6)\n",
    "\n",
    "# Power_divergenceResult(statistic=1.0, pvalue=0.9625657732472964)\n",
    "```\n",
    "\n",
    "_**For dice**_ $\\chi^2 = \\sum_{n=1} ^{n} {\\frac{(O_i - E_i)^2} {E_i}}$     $\\sim$     $\\chi^2$ with `df = 5`\n",
    "</br>\n"
   ]
  },
  {
   "cell_type": "markdown",
   "id": "00f8400c-ba57-4f9a-b33f-03a262891c0d",
   "metadata": {},
   "source": [
    "#### Task 1\n",
    "> Какая доля наблюдений лежит в диапазоне от 2 до 4 у распределения хи-квадрат с двумя степенями свободы?\n",
    "\n",
    "```\n",
    "    import scipy.stats as st\n",
    "    st.chi2.cdf(4, df = 2) - st.chi2.cdf(2, df = 2)\n",
    "\n",
    "# 0.23254415793482963\n",
    "```"
   ]
  },
  {
   "cell_type": "markdown",
   "id": "5fd756f0-ae58-45b1-8406-9fa957452644",
   "metadata": {},
   "source": [
    "#### Task 2\n",
    "> Значения наблюдаемых частот (от единички до шестерки):\n",
    ">\n",
    "> 10,10,10,5,10,15\n",
    ">\n",
    "> Проверьте нулевую гипотезу о том, что эмпирическое распределение частот не отличается \n",
    "от равномерного. В поле для ответа введите получившийся p-уровень значимости.\n",
    "\n",
    "\n",
    "`import scipy.stats as st`</br>\n",
    "`st.chisquare([10, 10, 10, 5, 10, 15], [10]*6)`\n",
    "\n",
    "\\# Power_divergenceResult(statistic=5.0, pvalue=0.4158801869955079)\n"
   ]
  },
  {
   "cell_type": "markdown",
   "id": "28f311c0-7b7c-4fc4-bb90-394cc6cefd2c",
   "metadata": {},
   "source": [
    "#### Task 3 \n",
    ">Вернемся к нашему примеру с политическими партиями! <br>\n",
    ">Проверьте гипотезу о том, что в ГС нет никаких различий в предпочтениях трех партий. <br>\n",
    ">Введите в поле для ответа получившееся значение статистики хи-квадрат <br>\n",
    ">с точностью хотя бы до одной цифры после запятой.\n",
    "\n",
    "`import scipy.stats as st`</br>\n",
    "`st.chisquare([10, 30, 50], [30] * 3)`\n",
    "\n",
    "\\# Power_divergenceResult(statistic=26.666666666666668, pvalue=1.61959679231261e-06)"
   ]
  },
  {
   "cell_type": "markdown",
   "id": "13b644c3-3596-441f-8dc8-ac4053ba2182",
   "metadata": {},
   "source": [
    "#### Task 4\n",
    ">Недавно я пришел на лекцию в Институт биоинформатики и обнаружил, <br>\n",
    "что в группе различное число студентов женского и мужского пола: <br>\n",
    "15 юношей и 9 девушек. Возможно, кого-то это и могло бы оставить равнодушным, <br> \n",
    "а я вот сразу взял лист бумаги и ручку, чтобы проверить гипотезу о том, что распределение <br>\n",
    ">частот девушек и юношей не отличается от равномерного в генеральной совокупности биоинформатиков!\n",
    "\n",
    "`import scipy.stats as st`</br>\n",
    "`st.chisquare([15, 9], [12] * 2)`\n",
    "\n",
    "\\# Power_divergenceResult(statistic=1.5, pvalue=0.22067136191984324)"
   ]
  },
  {
   "cell_type": "markdown",
   "id": "77b6d341-8c99-4ef6-9b28-48c049abd051",
   "metadata": {},
   "source": [
    "#### <u>Task 5\n",
    ">В 2013 году Эдвард Сноуден передал СМИ секретную информацию АНБ, <br>\n",
    ">касающуюся слежки американских спецслужб за информационными к <br>\n",
    ">оммуникациями между гражданами. Однако ﻿его поступок вызвал <br>\n",
    ">неоднозначную реакцию в обществе. Исследовательский центр USA TODAY <br>\n",
    ">провел опрос 1500 граждан США с целью выяснить, воспринимают ли они <br>\n",
    ">поступок Сноудена как положительный или отрицательный. 53% опрошенных р <br>\n",
    ">еспондентов оценили разоблачение положительно. <br>\n",
    "\n",
    ">При помощи теста хи-квадрат проверьте нулевую гипотезу о том, что в <br>\n",
    ">генеральной совокупности распределение отношения к поступку Сноудена является равномерным, то есть 50 на 50. <br>\n",
    "\n",
    ">Введите в ответ получившийся p-уровень значимости для проверки этой гипотезы. <br>\n",
    "\n",
    "`import scipy.stats as st`</br>\n",
    "`st.chisquare([53, 47], [50] * 2)`\n",
    "\n",
    "\\# Power_divergenceResult(statistic=0.36, pvalue=0.5485062355001471)\n"
   ]
  },
  {
   "cell_type": "code",
   "execution_count": 28,
   "id": "5c742def-abfc-49fe-9140-85794035926b",
   "metadata": {},
   "outputs": [
    {
     "data": {
      "text/plain": [
       "Power_divergenceResult(statistic=5.4, pvalue=0.02013675155034633)"
      ]
     },
     "execution_count": 28,
     "metadata": {},
     "output_type": "execute_result"
    }
   ],
   "source": [
    "st.chisquare([0.53 * 1500, 0.47 * 1500], [750] * 2)"
   ]
  },
  {
   "cell_type": "code",
   "execution_count": 9,
   "id": "17f70c49-6c13-47a0-83ae-812e1f2e6e7a",
   "metadata": {},
   "outputs": [
    {
     "data": {
      "text/html": [
       "<div>\n",
       "<style scoped>\n",
       "    .dataframe tbody tr th:only-of-type {\n",
       "        vertical-align: middle;\n",
       "    }\n",
       "\n",
       "    .dataframe tbody tr th {\n",
       "        vertical-align: top;\n",
       "    }\n",
       "\n",
       "    .dataframe thead th {\n",
       "        text-align: right;\n",
       "    }\n",
       "</style>\n",
       "<table border=\"1\" class=\"dataframe\">\n",
       "  <thead>\n",
       "    <tr style=\"text-align: right;\">\n",
       "      <th></th>\n",
       "      <th>age</th>\n",
       "      <th>sex</th>\n",
       "      <th>job</th>\n",
       "      <th>saving_accounts</th>\n",
       "      <th>housing_free</th>\n",
       "      <th>housing_own</th>\n",
       "      <th>housing_rent</th>\n",
       "    </tr>\n",
       "  </thead>\n",
       "  <tbody>\n",
       "    <tr>\n",
       "      <th>0</th>\n",
       "      <td>33</td>\n",
       "      <td>male</td>\n",
       "      <td>2</td>\n",
       "      <td>NaN</td>\n",
       "      <td>False</td>\n",
       "      <td>True</td>\n",
       "      <td>False</td>\n",
       "    </tr>\n",
       "    <tr>\n",
       "      <th>1</th>\n",
       "      <td>43</td>\n",
       "      <td>male</td>\n",
       "      <td>1</td>\n",
       "      <td>little</td>\n",
       "      <td>False</td>\n",
       "      <td>True</td>\n",
       "      <td>False</td>\n",
       "    </tr>\n",
       "    <tr>\n",
       "      <th>2</th>\n",
       "      <td>52</td>\n",
       "      <td>male</td>\n",
       "      <td>2</td>\n",
       "      <td>quite rich</td>\n",
       "      <td>False</td>\n",
       "      <td>True</td>\n",
       "      <td>False</td>\n",
       "    </tr>\n",
       "    <tr>\n",
       "      <th>3</th>\n",
       "      <td>35</td>\n",
       "      <td>female</td>\n",
       "      <td>3</td>\n",
       "      <td>little</td>\n",
       "      <td>False</td>\n",
       "      <td>True</td>\n",
       "      <td>False</td>\n",
       "    </tr>\n",
       "    <tr>\n",
       "      <th>4</th>\n",
       "      <td>28</td>\n",
       "      <td>male</td>\n",
       "      <td>2</td>\n",
       "      <td>little</td>\n",
       "      <td>False</td>\n",
       "      <td>True</td>\n",
       "      <td>False</td>\n",
       "    </tr>\n",
       "    <tr>\n",
       "      <th>...</th>\n",
       "      <td>...</td>\n",
       "      <td>...</td>\n",
       "      <td>...</td>\n",
       "      <td>...</td>\n",
       "      <td>...</td>\n",
       "      <td>...</td>\n",
       "      <td>...</td>\n",
       "    </tr>\n",
       "    <tr>\n",
       "      <th>995</th>\n",
       "      <td>65</td>\n",
       "      <td>male</td>\n",
       "      <td>2</td>\n",
       "      <td>little</td>\n",
       "      <td>True</td>\n",
       "      <td>False</td>\n",
       "      <td>False</td>\n",
       "    </tr>\n",
       "    <tr>\n",
       "      <th>996</th>\n",
       "      <td>30</td>\n",
       "      <td>male</td>\n",
       "      <td>3</td>\n",
       "      <td>little</td>\n",
       "      <td>False</td>\n",
       "      <td>True</td>\n",
       "      <td>False</td>\n",
       "    </tr>\n",
       "    <tr>\n",
       "      <th>997</th>\n",
       "      <td>33</td>\n",
       "      <td>male</td>\n",
       "      <td>2</td>\n",
       "      <td>little</td>\n",
       "      <td>False</td>\n",
       "      <td>True</td>\n",
       "      <td>False</td>\n",
       "    </tr>\n",
       "    <tr>\n",
       "      <th>998</th>\n",
       "      <td>29</td>\n",
       "      <td>female</td>\n",
       "      <td>2</td>\n",
       "      <td>NaN</td>\n",
       "      <td>False</td>\n",
       "      <td>True</td>\n",
       "      <td>False</td>\n",
       "    </tr>\n",
       "    <tr>\n",
       "      <th>999</th>\n",
       "      <td>44</td>\n",
       "      <td>male</td>\n",
       "      <td>2</td>\n",
       "      <td>moderate</td>\n",
       "      <td>False</td>\n",
       "      <td>True</td>\n",
       "      <td>False</td>\n",
       "    </tr>\n",
       "  </tbody>\n",
       "</table>\n",
       "<p>1000 rows × 7 columns</p>\n",
       "</div>"
      ],
      "text/plain": [
       "     age     sex  job saving_accounts  housing_free  housing_own  housing_rent\n",
       "0     33    male    2             NaN         False         True         False\n",
       "1     43    male    1          little         False         True         False\n",
       "2     52    male    2      quite rich         False         True         False\n",
       "3     35  female    3          little         False         True         False\n",
       "4     28    male    2          little         False         True         False\n",
       "..   ...     ...  ...             ...           ...          ...           ...\n",
       "995   65    male    2          little          True        False         False\n",
       "996   30    male    3          little         False         True         False\n",
       "997   33    male    2          little         False         True         False\n",
       "998   29  female    2             NaN         False         True         False\n",
       "999   44    male    2        moderate         False         True         False\n",
       "\n",
       "[1000 rows x 7 columns]"
      ]
     },
     "execution_count": 9,
     "metadata": {},
     "output_type": "execute_result"
    }
   ],
   "source": [
    "pd.get_dummies(german_credit.iloc[:,0:5], columns = ['housing'])"
   ]
  },
  {
   "cell_type": "code",
   "execution_count": null,
   "id": "d10017f7-2a1c-4e50-89ca-8e6836363e3c",
   "metadata": {},
   "outputs": [],
   "source": [
    "\n",
    "\n",
    "\n",
    "\n",
    "\n",
    "\n",
    "\n",
    "\n",
    "\n",
    "\n",
    "\n",
    "\n",
    "\n",
    "\n",
    "\n",
    "\n",
    "\n",
    "\n"
   ]
  }
 ],
 "metadata": {
  "kernelspec": {
   "display_name": "Python 3 (ipykernel)",
   "language": "python",
   "name": "python3"
  },
  "language_info": {
   "codemirror_mode": {
    "name": "ipython",
    "version": 3
   },
   "file_extension": ".py",
   "mimetype": "text/x-python",
   "name": "python",
   "nbconvert_exporter": "python",
   "pygments_lexer": "ipython3",
   "version": "3.12.3"
  }
 },
 "nbformat": 4,
 "nbformat_minor": 5
}
