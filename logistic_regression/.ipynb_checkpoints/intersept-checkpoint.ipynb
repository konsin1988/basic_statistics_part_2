{
 "cells": [
  {
   "cell_type": "markdown",
   "id": "cb2489e5-8e15-4f4e-87d3-4434540ccdea",
   "metadata": {},
   "source": [
    "# Logistic Regression"
   ]
  },
  {
   "cell_type": "markdown",
   "id": "939d1b80-4fe7-42de-a608-83ff94061313",
   "metadata": {},
   "source": [
    "### Step from probability to odds (от вероятности к шансам)"
   ]
  },
  {
   "cell_type": "markdown",
   "id": "6c336777-d005-423c-b9e9-39c79721f32d",
   "metadata": {},
   "source": [
    "<div class = 'alert alert-box alert-warning'>\n",
    "    \n",
    "> Odds (шансы) - вероятность успеха к верояности неудачи\n",
    "\n",
    "$$ Odds = \\frac{P}{1 - P}$$\n",
    "</div>"
   ]
  },
  {
   "cell_type": "markdown",
   "id": "4ef75b50-9fc1-453a-887c-53d7c512d8b6",
   "metadata": {},
   "source": [
    "> Если шанс \\> 1 => шанс положительного исхода выше, чем отрицательного, ну и наоборот. Если = 1 => $P = 1 - P$"
   ]
  },
  {
   "cell_type": "markdown",
   "id": "b576ec27-30ae-4168-abc0-6b89b24ac7e6",
   "metadata": {},
   "source": [
    "```From probability to odds (шансы) to log of odds (логарифм от шансов) ```\n",
    "\n",
    "$$ log(\\frac{0.2}{1 - 0.2}) = log(0.25) = -1.38$$"
   ]
  },
  {
   "cell_type": "markdown",
   "id": "9127bc99-85b2-4b04-8e4b-fdaa006669dd",
   "metadata": {},
   "source": [
    "Приходим к уравнению для линейной регрессии:\n",
    "$$ logit(p) = log\\frac{p}{1 - p} = \\beta_0 + \\beta_1 * x_1$$"
   ]
  },
  {
   "cell_type": "markdown",
   "id": "bc45dcfb-294c-4832-b157-2386430e329c",
   "metadata": {},
   "source": [
    "Обратный переход от logit к вероятности:\n",
    "$$ p = \\frac{e^{\\beta_0 + \\beta_1 \\cdot x_1}}{1 + e^{\\beta_0 + \\beta_1 \\cdot x_1}}$$"
   ]
  },
  {
   "cell_type": "markdown",
   "id": "6ad9a30a-daaa-41b1-8256-34c0db4e8dda",
   "metadata": {},
   "source": [
    "## Intercept only model (модель без предикторов)"
   ]
  },
  {
   "cell_type": "code",
   "execution_count": null,
   "id": "c337cf36-e23a-4348-b3a3-0a527414d8ac",
   "metadata": {},
   "outputs": [],
   "source": []
  }
 ],
 "metadata": {
  "kernelspec": {
   "display_name": "Python 3 (ipykernel)",
   "language": "python",
   "name": "python3"
  },
  "language_info": {
   "codemirror_mode": {
    "name": "ipython",
    "version": 3
   },
   "file_extension": ".py",
   "mimetype": "text/x-python",
   "name": "python",
   "nbconvert_exporter": "python",
   "pygments_lexer": "ipython3",
   "version": "3.12.3"
  }
 },
 "nbformat": 4,
 "nbformat_minor": 5
}
